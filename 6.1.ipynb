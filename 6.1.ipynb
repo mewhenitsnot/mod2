{
 "cells": [
  {
   "cell_type": "code",
   "execution_count": null,
   "id": "ede6a224-bf22-4c11-af43-0fbc42a87414",
   "metadata": {},
   "outputs": [],
   "source": [
    "for value in [3, 2, 1, 0]:\n",
    "    print(value)"
   ]
  }
 ],
 "metadata": {
  "kernelspec": {
   "display_name": "Python 3 (ipykernel)",
   "language": "python",
   "name": "python3"
  },
  "language_info": {
   "codemirror_mode": {
    "name": "ipython",
    "version": 3
   },
   "file_extension": ".py",
   "mimetype": "text/x-python",
   "name": "python",
   "nbconvert_exporter": "python",
   "pygments_lexer": "ipython3",
   "version": "3.12.4"
  }
 },
 "nbformat": 4,
 "nbformat_minor": 5
}
